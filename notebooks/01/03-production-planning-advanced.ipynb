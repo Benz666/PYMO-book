{
  "cells": [
    {
      "cell_type": "markdown",
      "metadata": {
        "id": "AVkGJGu-Ob6L",
        "tags": []
      },
      "source": [
        "```{index} single: Pyomo; variables\n",
        "```\n",
        "```{index} single: Pyomo; expressions\n",
        "```\n",
        "```{index} single: Pyomo; sets\n",
        "```\n",
        "```{index} single: Pyomo; decorators\n",
        "```\n",
        "```{index} single: Pyomo; parameters\n",
        "```\n",
        "```{index} single: solver; HiGHS\n",
        "```\n",
        "\n",
        "# 1.3 A data-driven Pyomo Model\n",
        "\n",
        "In this notebook, we'll revisit the production planning example. However, this time we'll demonstrate how Python's data structures, combined with Pyomo's capabilities, can create an optimization model scales with problem data. This enables the model to adjust to new products, varying prices, or changing demand. We refer to this as \"data-driven\" modeling.\n",
        "\n",
        "The additional Pyomo components used in this notebook are:\n",
        "\n",
        "* [Sets](https://pyomo.readthedocs.io/en/6.8.0/pyomo_modeling_components/Sets.html)\n",
        "* [Parameters](https://pyomo.readthedocs.io/en/6.8.0/pyomo_modeling_components/Parameters.html)\n",
        "\n",
        "These components enable the use indexed variables and constraints. The combination of sets and indices are essential to building scalable and maintainable models for more complex applications.\n",
        "\n",
        "We will begin this analysis by examining the problem data sets to identify the underlying problem structure."
      ]
    },
    {
      "cell_type": "markdown",
      "metadata": {
        "id": "Ki9K-neyxoso"
      },
      "source": [
        "## Preamble: Install Pyomo and a solver\n",
        "\n",
        "The following cell checks if the notebook is run on Google Colab. If so, it does a quiet installation of Pyomo and the HiGHS solver. The solver is then selected, a test performed to verify that the solver is available, and the solver interface is stored in a global object `SOLVER` for later use."
      ]
    },
    {
      "cell_type": "code",
      "execution_count": 16,
      "metadata": {
        "id": "5ssUqKOaPVaE"
      },
      "outputs": [],
      "source": [
        "import sys\n",
        "\n",
        "if 'google.colab' in sys.modules:\n",
        "    %pip install pyomo >/dev/null 2>/dev/null\n",
        "    %pip install highspy >/dev/null 2>/dev/null\n",
        "\n",
        "solver = 'appsi_highs'\n",
        "\n",
        "import pyomo.environ as pyo\n",
        "SOLVER = pyo.SolverFactory(solver)\n",
        "\n",
        "assert SOLVER.available(), f\"Solver {solver} is not available.\""
      ]
    },
    {
      "cell_type": "markdown",
      "source": [
        "### *Step 1. Import Pyomo*"
      ],
      "metadata": {
        "id": "SUVXWy7sx2Gl"
      }
    },
    {
      "cell_type": "code",
      "source": [
        "import pyomo.environ as pyo\n",
        "import matplotlib.pyplot as plt\n",
        "import numpy as np\n",
        "import pandas as pd\n",
        "import networkx as nx"
      ],
      "metadata": {
        "id": "nSGcI7Ehx9fK"
      },
      "execution_count": 2,
      "outputs": []
    },
    {
      "cell_type": "markdown",
      "source": [
        "### *Step 2. The ConcreteModel Object*"
      ],
      "metadata": {
        "id": "nfPY_qFhznoJ"
      }
    },
    {
      "cell_type": "code",
      "source": [
        "model = pyo.ConcreteModel(\"Production Planning: Version 1\")\n",
        "model.display()\n",
        "type(model)"
      ],
      "metadata": {
        "id": "SI2TtpyHzWEg",
        "outputId": "4b6273dd-c3f6-4881-f3e4-cd9a6e3c353e",
        "colab": {
          "base_uri": "https://localhost:8080/",
          "height": 317
        }
      },
      "execution_count": 5,
      "outputs": [
        {
          "output_type": "stream",
          "name": "stdout",
          "text": [
            "Model 'Production Planning: Version 1'\n",
            "\n",
            "  Variables:\n",
            "    None\n",
            "\n",
            "  Objectives:\n",
            "    None\n",
            "\n",
            "  Constraints:\n",
            "    None\n"
          ]
        },
        {
          "output_type": "execute_result",
          "data": {
            "text/plain": [
              "pyomo.core.base.PyomoModel.ConcreteModel"
            ],
            "text/html": [
              "<div style=\"max-width:800px; border: 1px solid var(--colab-border-color);\"><style>\n",
              "      pre.function-repr-contents {\n",
              "        overflow-x: auto;\n",
              "        padding: 8px 12px;\n",
              "        max-height: 500px;\n",
              "      }\n",
              "\n",
              "      pre.function-repr-contents.function-repr-contents-collapsed {\n",
              "        cursor: pointer;\n",
              "        max-height: 100px;\n",
              "      }\n",
              "    </style>\n",
              "    <pre style=\"white-space: initial; background:\n",
              "         var(--colab-secondary-surface-color); padding: 8px 12px;\n",
              "         border-bottom: 1px solid var(--colab-border-color);\"><b>pyomo.core.base.PyomoModel.ConcreteModel</b><br/>def __init__(*args, **kwds)</pre><pre class=\"function-repr-contents function-repr-contents-collapsed\" style=\"\"><a class=\"filepath\" style=\"display:none\" href=\"#\">/usr/local/lib/python3.11/dist-packages/pyomo/core/base/PyomoModel.py</a>A concrete optimization model that does not defer construction of\n",
              "components.</pre>\n",
              "      <script>\n",
              "      if (google.colab.kernel.accessAllowed && google.colab.files && google.colab.files.view) {\n",
              "        for (const element of document.querySelectorAll('.filepath')) {\n",
              "          element.style.display = 'block'\n",
              "          element.onclick = (event) => {\n",
              "            event.preventDefault();\n",
              "            event.stopPropagation();\n",
              "            google.colab.files.view(element.textContent, 908);\n",
              "          };\n",
              "        }\n",
              "      }\n",
              "      for (const element of document.querySelectorAll('.function-repr-contents')) {\n",
              "        element.onclick = (event) => {\n",
              "          event.preventDefault();\n",
              "          event.stopPropagation();\n",
              "          element.classList.toggle('function-repr-contents-collapsed');\n",
              "        };\n",
              "      }\n",
              "      </script>\n",
              "      </div>"
            ]
          },
          "metadata": {},
          "execution_count": 5
        }
      ]
    },
    {
      "cell_type": "markdown",
      "source": [
        "### *Step 3. Decision Variabvles*"
      ],
      "metadata": {
        "id": "4GOBFPH40aaT"
      }
    },
    {
      "cell_type": "code",
      "source": [
        "model.x_M = pyo.Var(bounds=(0, None))\n",
        "model.x_A = pyo.Var(bounds=(0, 80))\n",
        "model.x_B = pyo.Var(bounds=(0, 100))\n",
        "model.y_U = pyo.Var(bounds=(0, 40))\n",
        "model.y_V = pyo.Var(bounds=(0, None))"
      ],
      "metadata": {
        "id": "ygdiR0Am0hDQ"
      },
      "execution_count": 6,
      "outputs": []
    },
    {
      "cell_type": "markdown",
      "source": [
        "### *Step 4. Expressions*\n",
        "### *Step 5. Objective*"
      ],
      "metadata": {
        "id": "_Bc0Z0nD14ay"
      }
    },
    {
      "cell_type": "code",
      "source": [
        "model.cost = 10 * model.x_M + 50 * model.x_A + 40 * model.x_B\n",
        "model.revenue = 270 * model.y_U + 210 * model.y_V\n",
        "# define the objective function using the Objective class\n",
        "model.profit = pyo.Objective(expr = model.revenue - model.cost, sense = pyo.maximize)\n",
        "\n",
        "# define the objective function using decotators\n",
        "@model.Objective(sense = pyo.maximize)\n",
        "def profit(m):\n",
        "  return m.revenue - m.cost"
      ],
      "metadata": {
        "id": "83yFn3ri14vo",
        "outputId": "bfb85fe9-7b5a-4a89-ee34-addfd8e9c139",
        "colab": {
          "base_uri": "https://localhost:8080/"
        }
      },
      "execution_count": 12,
      "outputs": [
        {
          "output_type": "stream",
          "name": "stderr",
          "text": [
            "WARNING:pyomo.core:Implicitly replacing the Component attribute profit (type=<class 'pyomo.core.base.objective.ScalarObjective'>) on block 'Production Planning: Version 1' with a new Component (type=<class 'pyomo.core.base.objective.ScalarObjective'>).\n",
            "This is usually indicative of a modelling error.\n",
            "To avoid this warning, use block.del_component() and block.add_component().\n"
          ]
        }
      ]
    },
    {
      "cell_type": "markdown",
      "source": [
        "### *Step 6. Constraints*"
      ],
      "metadata": {
        "id": "sJJYIpxG483F"
      }
    },
    {
      "cell_type": "code",
      "source": [
        "model.raw_materials = pyo.Constraint(expr = 10 * model.y_U + 9 * model.y_V <= model.x_M)\n",
        "model.labor_A = pyo.Constraint(expr = 1 * model.y_U + 1 * model.y_V <= model.x_A)\n",
        "model.labor_B = pyo.Constraint(expr = 2 * model.y_U + 1 * model.y_V <= model.x_B)\n",
        "\n",
        "# decorators\n",
        "# @model.Constraint()\n",
        "# def raw_materials(m):\n",
        "#   return 10 * m.y_U + 9 * m.y_V <= m.x_M\n",
        "\n",
        "# @model.Constraint()\n",
        "# def labor_A(m):\n",
        "#   return 1 * m.y_U + 1 * m.y_V <= m.x_A\n",
        "\n",
        "# @model.Constraint()\n",
        "# def labor_B(m):\n",
        "#   return 2 * m.y_U + 1 * m.y_V <= m.x_B\n"
      ],
      "metadata": {
        "id": "7NJ5QIX649kk",
        "outputId": "aec94290-c5e3-4424-cae4-d8efb528ec67",
        "colab": {
          "base_uri": "https://localhost:8080/"
        }
      },
      "execution_count": 14,
      "outputs": [
        {
          "output_type": "stream",
          "name": "stderr",
          "text": [
            "WARNING:pyomo.core:Implicitly replacing the Component attribute raw_materials (type=<class 'pyomo.core.base.constraint.ScalarConstraint'>) on block 'Production Planning: Version 1' with a new Component (type=<class 'pyomo.core.base.constraint.AbstractScalarConstraint'>).\n",
            "This is usually indicative of a modelling error.\n",
            "To avoid this warning, use block.del_component() and block.add_component().\n",
            "WARNING:pyomo.core:Implicitly replacing the Component attribute labor_A (type=<class 'pyomo.core.base.constraint.ScalarConstraint'>) on block 'Production Planning: Version 1' with a new Component (type=<class 'pyomo.core.base.constraint.AbstractScalarConstraint'>).\n",
            "This is usually indicative of a modelling error.\n",
            "To avoid this warning, use block.del_component() and block.add_component().\n",
            "WARNING:pyomo.core:Implicitly replacing the Component attribute labor_B (type=<class 'pyomo.core.base.constraint.ScalarConstraint'>) on block 'Production Planning: Version 1' with a new Component (type=<class 'pyomo.core.base.constraint.AbstractScalarConstraint'>).\n",
            "This is usually indicative of a modelling error.\n",
            "To avoid this warning, use block.del_component() and block.add_component().\n"
          ]
        }
      ]
    },
    {
      "cell_type": "markdown",
      "source": [],
      "metadata": {
        "id": "QfWpbONe7zaU"
      }
    },
    {
      "cell_type": "code",
      "source": [
        "results = SOLVER.solve(model, tee=True)\n",
        "\n",
        "# display the whole model\n",
        "model.pprint()\n",
        "# display the components of the model\n",
        "model.profit.pprint()\n",
        "\n",
        "# print the value  of variables\n",
        "print(f\" Profit = {pyo.value(model.profit):9.2f}\")\n",
        "print(f\"Revenue = {pyo.value(model.revenue):9.2f}\")\n",
        "print(f\"Cost    = {pyo.value(model.cost):9.2f}\")\n",
        "print(f\"x_M     = {pyo.value(model.x_M):9.2f}\")\n",
        "print(f\"x_A     = {pyo.value(model.x_A):9.2f}\")\n",
        "print(f\"x_B     = {pyo.value(model.x_B):9.2f}\")\n",
        "\n",
        "## Pandas\n",
        "\n",
        "production = pd.Series(\n",
        "    {\n",
        "        \"U\": pyo.value(model.y_U),\n",
        "        \"V\": pyo.value(model.y_V),\n",
        "    }\n",
        ")\n",
        "\n",
        "raw_materials = pd.Series(\n",
        "    {\n",
        "        \"M\": pyo.value(model.x_M),\n",
        "        \"A\": pyo.value(model.x_A),\n",
        "        \"B\": pyo.value(model.x_B),\n",
        "    }\n",
        ")\n",
        "\n",
        "# creat 1 x 2 grid of subplots and configure global settings\n",
        "fig, ax =plt.subplots(1, 2, figsize=(8, 3.5))\n",
        "plt.rcParams[\"font.size\"] = 12\n",
        "colors = plt.cm.tab20c.colors\n",
        "color_sets = [[colors[0], colors[4]],[colors[16], colors[8], colors[12]]]\n",
        "datasets = [production, raw_materials]\n",
        "titles = [\"Production\", \"Raw Materials\"]\n",
        "\n",
        "# plot data on subplots\n",
        "for i, (data, title, color_set) in enumerate(zip(datasets, titles, color_sets)):\n",
        "  data.plot(ax=ax[i], kind=\"barh\", title=title, alpha=0.7, color=color_set)\n",
        "  ax[i].set_xlabel(\"Units\")\n",
        "  ax[i].invert_yaxis()\n",
        "plt.tight_layout()\n",
        "plt.show()"
      ],
      "metadata": {
        "id": "S35t37Wi7z7_",
        "outputId": "5495a161-7889-43e3-c87d-5632ab69c576",
        "colab": {
          "base_uri": "https://localhost:8080/",
          "height": 1000
        }
      },
      "execution_count": 17,
      "outputs": [
        {
          "output_type": "stream",
          "name": "stdout",
          "text": [
            "Running HiGHS 1.10.0 (git hash: fd86653): Copyright (c) 2025 HiGHS under MIT licence terms\n",
            "RUN!\n",
            "LP   has 3 rows; 5 cols; 9 nonzeros\n",
            "Coefficient ranges:\n",
            "  Matrix [1e+00, 1e+01]\n",
            "  Cost   [1e+01, 3e+02]\n",
            "  Bound  [4e+01, 1e+02]\n",
            "  RHS    [0e+00, 0e+00]\n",
            "Presolving model\n",
            "2 rows, 4 cols, 6 nonzeros  0s\n",
            "Dependent equations search running on 2 equations with time limit of 1000.00s\n",
            "Dependent equations search removed 0 rows and 0 nonzeros in 0.00s (limit = 1000.00s)\n",
            "2 rows, 4 cols, 6 nonzeros  0s\n",
            "Presolve : Reductions: rows 2(-1); columns 4(-1); elements 6(-3)\n",
            "Solving the presolved LP\n",
            "Using EKK dual simplex solver - serial\n",
            "  Iteration        Objective     Infeasibilities num(sum)\n",
            "          0    -2.0999953995e+02 Ph1: 2(4); Du: 3(210) 0s\n",
            "          3    -2.6000000000e+03 Pr: 0(0) 0s\n",
            "Solving the original LP from the solution after postsolve\n",
            "Model status        : Optimal\n",
            "Simplex   iterations: 3\n",
            "Objective value     :  2.6000000000e+03\n",
            "Relative P-D gap    :  0.0000000000e+00\n",
            "HiGHS run time      :          0.01\n",
            "5 Var Declarations\n",
            "    x_A : Size=1, Index=None\n",
            "        Key  : Lower : Value : Upper : Fixed : Stale : Domain\n",
            "        None :     0 :  80.0 :    80 : False : False :  Reals\n",
            "    x_B : Size=1, Index=None\n",
            "        Key  : Lower : Value : Upper : Fixed : Stale : Domain\n",
            "        None :     0 : 100.0 :   100 : False : False :  Reals\n",
            "    x_M : Size=1, Index=None\n",
            "        Key  : Lower : Value : Upper : Fixed : Stale : Domain\n",
            "        None :     0 : 740.0 :  None : False : False :  Reals\n",
            "    y_U : Size=1, Index=None\n",
            "        Key  : Lower : Value : Upper : Fixed : Stale : Domain\n",
            "        None :     0 :  20.0 :    40 : False : False :  Reals\n",
            "    y_V : Size=1, Index=None\n",
            "        Key  : Lower : Value : Upper : Fixed : Stale : Domain\n",
            "        None :     0 :  60.0 :  None : False : False :  Reals\n",
            "\n",
            "1 Objective Declarations\n",
            "    profit : Size=1, Index=None, Active=True\n",
            "        Key  : Active : Sense    : Expression\n",
            "        None :   True : maximize : 270*y_U + 210*y_V - (10*x_M + 50*x_A + 40*x_B)\n",
            "\n",
            "3 Constraint Declarations\n",
            "    labor_A : Size=1, Index=None, Active=True\n",
            "        Key  : Lower : Body            : Upper : Active\n",
            "        None :  -Inf : y_U + y_V - x_A :   0.0 :   True\n",
            "    labor_B : Size=1, Index=None, Active=True\n",
            "        Key  : Lower : Body              : Upper : Active\n",
            "        None :  -Inf : 2*y_U + y_V - x_B :   0.0 :   True\n",
            "    raw_materials : Size=1, Index=None, Active=True\n",
            "        Key  : Lower : Body                 : Upper : Active\n",
            "        None :  -Inf : 10*y_U + 9*y_V - x_M :   0.0 :   True\n",
            "\n",
            "9 Declarations: x_M x_A x_B y_U y_V profit raw_materials labor_A labor_B\n",
            "profit : Size=1, Index=None, Active=True\n",
            "    Key  : Active : Sense    : Expression\n",
            "    None :   True : maximize : 270*y_U + 210*y_V - (10*x_M + 50*x_A + 40*x_B)\n",
            " Profit =   2600.00\n",
            "Revenue =  18000.00\n",
            "Cost    =  15400.00\n",
            "x_M     =    740.00\n",
            "x_A     =     80.00\n",
            "x_B     =    100.00\n"
          ]
        },
        {
          "output_type": "display_data",
          "data": {
            "text/plain": [
              "<Figure size 800x350 with 2 Axes>"
            ],
            "image/png": "[encoded data removed]"
          },
          "metadata": {}
        }
      ]
    },
    {
      "cell_type": "markdown",
      "metadata": {
        "tags": [],
        "id": "_s6Eyex4xosp"
      },
      "source": [
        "## Data representations\n",
        "\n",
        "We begin by revisiting the data sets and mathematical model developed for the basic production planning problem presented in the [previous notebook](02-production-planning-basic.ipynb). The original data sets were given as:\n",
        "\n",
        "<div align=\"center\">\n",
        "\n",
        "| Product | Material <br> required | Labor A <br> required | Labor B <br> required | Market <br> Demand | Price |\n",
        "| :-: | :-: | :-: | :-: | :-: | :-: |\n",
        "| U | 10 g | 1 hr | 2 hr | $\\leq$ 40 units | 270$ |\n",
        "| V |  9 g | 1 hr | 1 hr | unlimited | 210$ |\n",
        "\n",
        "</div>\n",
        "and\n",
        "<div align=\"center\">\n",
        "\n",
        "| Resource | Amount <br> Available | Cost |\n",
        "| :-: | :-: | :-: |\n",
        "| Material | unlimited | 10$ / g |\n",
        "| Labor A | 80 hours | 50$ / hour |\n",
        "| Labor B | 100 hours | 40$ / hour |\n",
        "\n",
        "</div>\n",
        "\n",
        "Two distinct sets of objects are evident from these tables. The first is the set of products comprised of $U$ and $V$. The second is the set of resources used to produce those products, which we abbreviate as $M$, $A$, and $B$.\n",
        "\n",
        "Having identified these sets, the data for this application be factored into three simple tables. The first two tables list attributes of the products and resources, the third table summarizes the process used to create the products from the resources:\n",
        "\n",
        "**Table: Products**\n",
        "\n",
        "<div align=\"center\">\n",
        "\n",
        "| Product | Demand | Price |\n",
        "| :-: | :-: | :-: |\n",
        "| U |  $\\leq$ 40 units | 270$ |\n",
        "| V |  unlimited | 210$ |\n",
        "\n",
        "</div>\n",
        "\n",
        "**Table: Resources**\n",
        "\n",
        "<div align=\"center\">\n",
        "\n",
        "| Resource | Available | Cost |\n",
        "| :-: | :-: | :-: |\n",
        "| Material | unlimited | 10$ / g |\n",
        "| Labor A | 80 hours | 50$ / hour |\n",
        "| Labor B | 100 hours | 40$ / hour |\n",
        "\n",
        "</div>\n",
        "\n",
        "**Table: Processes**\n",
        "\n",
        "<div align=\"center\">\n",
        "\n",
        "| Product | Material | Labor A | Labor B\n",
        "| :-: | :-: | :-: | :-: |\n",
        "| U | 10 g | 1 hr | 2 hr |\n",
        "| V |  9 g | 1 hr | 1 hr |\n",
        "\n",
        "</div>"
      ]
    },
    {
      "cell_type": "markdown",
      "metadata": {
        "id": "0FSVvVf2xosp"
      },
      "source": [
        "Python has many built-in data types and libraries that are useful for handling tabular data, and there are several options that would be appropriate for the task at hand. Nested dictionaries can be a good choice for smaller problems that have only a few columns. In the following examples, we will show how nested dictionaries can be used to represent the three tables that were described above.\n",
        "\n",
        "The first table of these describes the products. The product names will serve as keys for outermost dictionary, and attribute names as keys for the inner dictionaries. The attribute values will be interpreted as floating point numbers. `None` is used when a value is not present."
      ]
    },
    {
      "cell_type": "code",
      "execution_count": null,
      "metadata": {
        "id": "MFcXa-nwxosp",
        "outputId": "f8625984-12ee-4a8e-bf84-4f95b1d66c1e"
      },
      "outputs": [
        {
          "name": "stdout",
          "output_type": "stream",
          "text": [
            "U price      270\n",
            "U demand     40\n",
            "V price      210\n",
            "V demand     None\n"
          ]
        }
      ],
      "source": [
        "products = {\n",
        "    \"U\": {\"price\": 270, \"demand\": 40},\n",
        "    \"V\": {\"price\": 210, \"demand\": None},\n",
        "}\n",
        "\n",
        "# print data\n",
        "for product, attributes in products.items():\n",
        "    for attribute, value in attributes.items():\n",
        "        print(f\"{product} {attribute:10s} {value}\")"
      ]
    },
    {
      "cell_type": "markdown",
      "metadata": {
        "id": "LiKhcdybxosp"
      },
      "source": [
        "The second table is the nested dictionary listing attributes and values for resources consumed."
      ]
    },
    {
      "cell_type": "code",
      "execution_count": null,
      "metadata": {
        "id": "8s79pA7Zxosp",
        "outputId": "8d15968d-4448-4fea-f0f4-bd2f2dcc2c0c"
      },
      "outputs": [
        {
          "name": "stdout",
          "output_type": "stream",
          "text": [
            "M        price      10\n",
            "M        available  None\n",
            "labor A  price      50\n",
            "labor A  available  80\n",
            "labor B  price      40\n",
            "labor B  available  100\n"
          ]
        }
      ],
      "source": [
        "resources = {\n",
        "    \"M\": {\"price\": 10, \"available\": None},\n",
        "    \"labor A\": {\"price\": 50, \"available\": 80},\n",
        "    \"labor B\": {\"price\": 40, \"available\": 100},\n",
        "}\n",
        "\n",
        "for resource, attributes in resources.items():\n",
        "    for attribute, value in attributes.items():\n",
        "        print(f\"{resource:8s} {attribute:10s} {value}\")"
      ]
    },
    {
      "cell_type": "markdown",
      "metadata": {
        "id": "Fgyhme1Ixosp"
      },
      "source": [
        "The third table data shows the amount of each resource needed to produce one unit of each product. The rows are labeled by product, and the columns labeled by by resource."
      ]
    },
    {
      "cell_type": "code",
      "execution_count": null,
      "metadata": {
        "id": "aAwTjlrSxosq",
        "outputId": "bc577e3e-8fc7-47ad-ccc2-72fcbc1ff19f"
      },
      "outputs": [
        {
          "name": "stdout",
          "output_type": "stream",
          "text": [
            "U    M          10\n",
            "U    labor A    1\n",
            "U    labor B    2\n",
            "V    M          9\n",
            "V    labor A    1\n",
            "V    labor B    1\n"
          ]
        }
      ],
      "source": [
        "processes = {\n",
        "    \"U\": {\"M\": 10, \"labor A\": 1, \"labor B\": 2},\n",
        "    \"V\": {\"M\": 9, \"labor A\": 1, \"labor B\": 1},\n",
        "}\n",
        "\n",
        "for product, process in processes.items():\n",
        "    for resource, value in process.items():\n",
        "        print(f\"{product:4s} {resource:10s} {value}\")"
      ]
    },
    {
      "cell_type": "markdown",
      "metadata": {
        "jp-MarkdownHeadingCollapsed": true,
        "tags": [],
        "id": "7QOvLhF0xosq"
      },
      "source": [
        "## Mathematical model\n",
        "\n",
        "By rearranging the problem data into straightforward tables, the structure of the production planning problem becomes evident. We can identify a set of products, a set of resources, and a collection of parameters that specify the processes for transforming resources into products. Compared to the previous notebook, these abstractions allow us to create mathematical models that can adapt and scale with the supplied data.\n",
        "\n",
        "Let $\\cal{P}$ and $\\cal{R}$ be the set of products and resources, respectively, and let $p$ and $r$ be representative elements of those sets. We use indexed decision variables $x_r$ and $y_p$ to denote the amount of resource $r$ that is consumed in production, and $y_p$ to denote the amount of product $p$ produced.\n",
        "\n",
        "The problem data provides attributes that constrain the decision variables. For example, the decision variables all have lower bounds of zero, and some have upper bounds. We represent these as\n",
        "\n",
        "$$\n",
        "\\begin{aligned}\n",
        "    0 \\leq x_r \\leq b_r & & \\forall r\\in\\cal{R} \\\\\n",
        "    0 \\leq y_p \\leq b_p & & \\forall p\\in\\cal{P} \\\\\n",
        "\\end{aligned}\n",
        "$$\n",
        "\n",
        "where the upper bounds, $b_r$ and $b_p$, come from the tables of attributes. For cases where the upper bounds don't apply, we can either insert bounds larger than would ever be encountered, or, when we translate this model to Pyomo, designate a special value that causes the bound to be ignored.\n",
        "\n",
        "The objective is given as before,\n",
        "\n",
        "$$\n",
        "\\begin{aligned}\n",
        "    \\text{profit} & = \\text{revenue} - \\text{cost} \\\\\n",
        "\\end{aligned}\n",
        "$$\n",
        "\n",
        "but now the expressions for revenue and cost are\n",
        "\n",
        "$$\n",
        "\\begin{aligned}\n",
        "    \\text{revenue} & = \\sum_{p\\in\\cal{P}} c_p y_p  \\\\\n",
        "    \\text{cost} & = \\sum_{r\\in\\cal{R}} c_r x_r \\\\\n",
        "\\end{aligned}\n",
        "$$\n",
        "\n",
        "where $c_r$ and $c_p$ are parameters specifying the price for resources and products. The bounds on available resources can be written as\n",
        "\n",
        "$$\n",
        "\\begin{aligned}\n",
        "    \\sum_{p\\in\\cal{P}} a_{r, p} y_p & \\leq x_r & \\forall r\\in\\cal{R}\n",
        "\\end{aligned}\n",
        "$$\n",
        "\n",
        "Putting these pieces together, we have the following model for the production planning problem.\n",
        "\n",
        "$$\n",
        "\\begin{align}\n",
        "\\max \\quad & \\text{profit} = \\sum_{p\\in\\cal{P}} c_p y_p - \\sum_{r\\in\\cal{R}} c_r x_r \\\\\n",
        "\\text{such that} \\quad & \\sum_{p\\in\\cal{P}} a_{r, p} y_p  \\leq x_r & \\forall r\\in\\cal{R} \\nonumber \\\\\n",
        " &   0 \\leq x_r \\leq b_r & \\forall r\\in\\cal{R} \\nonumber  \\\\\n",
        " &   0 \\leq y_p \\leq b_p & \\forall p\\in\\cal{P} \\nonumber  \\\\\n",
        "\\end{align}\n",
        "$$\n",
        "\n",
        "Compared to the previous notebook, when formulated this way, the model can be applied to any problem with the same structure, regardless of the number of products or resources. This flexibility is possible due to the use of sets to describe the products and resources for a particular problem, indices to refer to elements of those sets, and data tables that hold the relevant parameter values.\n",
        "\n",
        "Generalizing mathematical models in this fashion is a common feature of many data science applications. Next we will see how this type of generalization is facilitated in Pyomo."
      ]
    },
    {
      "cell_type": "markdown",
      "metadata": {
        "id": "BZ6bFg8Uxosq"
      },
      "source": [
        "## The production model in Pyomo\n",
        "\n",
        "As before, we begin the construction of a Pyomo model by creating a `ConcreteModel`."
      ]
    },
    {
      "cell_type": "code",
      "execution_count": null,
      "metadata": {
        "id": "pSEw6C4rxosq"
      },
      "outputs": [],
      "source": [
        "model = pyo.ConcreteModel()"
      ]
    },
    {
      "cell_type": "markdown",
      "metadata": {
        "id": "_YlC3XL5xosq"
      },
      "source": [
        "In mathematical optimization and modeling, a set serves as an indexed collection of elements that allows you to define variables, constraints, and other model components in a generalized way. Pyomo's `Set()` component serves the same purpose: it is used for defining index sets over which variables, parameters, constraints, or objectives can be defined.\n",
        "\n",
        "We use the Pyomo `Set()` to construct sets corresponding to the products and resources. Each set is initialized with the dictionary keys for the relevant attribute tables. These will later become indices for parameters, decision variables, and constraints."
      ]
    },
    {
      "cell_type": "code",
      "execution_count": null,
      "metadata": {
        "id": "y9ol0jydxosq"
      },
      "outputs": [],
      "source": [
        "model.PRODUCTS = pyo.Set(initialize=products.keys())\n",
        "model.RESOURCES = pyo.Set(initialize=resources.keys())"
      ]
    },
    {
      "cell_type": "markdown",
      "metadata": {
        "id": "6m8kjuEtxosq"
      },
      "source": [
        "The next step is to introduce parameters that will be used in the constraints and objective functions. These are indexed by products, or resources, or both. The parameter values are assigned to model name. We use Pyomo decorators to declare these parameters, where the function between decorated becomes the name of the parameter, and the function returns the parameter value from the problem data sets. This forms the interface between problem data and the Pyomo model.\n",
        "\n",
        "This step of declaring Pyomo `Param` objects is often omitted in Pyomo applications. In doing so, the modeler is making a choice to embed the external data representation directly into objectives and constraints of the problem. This can be effective, it does keep the code shorter, and may remove some computational overhead. However, it also blurs the boundary between the data representation and the model statements. Any change in data representation may require editing every place where that data is used in the model. By defining model parameters with `Param()`, the interface to the data representation is located in one clearly defined portion of a larger model, thereby significantly improving the long-term maintainabiity of models. This concern may be overkill in small models like we have here, but is a key consideration when constructing more complex applications.\n",
        "\n",
        "Note: The domain for the bounds is set to `Any` because some of them will take value `None`. Pyomo will omit a lower or upper bounds that has a value of `None`, so this is a way to keep the logic simple."
      ]
    },
    {
      "cell_type": "code",
      "execution_count": null,
      "metadata": {
        "id": "oiWRs8Wfxosq"
      },
      "outputs": [],
      "source": [
        "# parameter for bounds\n",
        "@model.Param(model.PRODUCTS, domain=pyo.Any)\n",
        "def demand(model, product):\n",
        "    return products[product][\"demand\"]\n",
        "\n",
        "\n",
        "@model.Param(model.RESOURCES, domain=pyo.Any)\n",
        "def available(model, resource):\n",
        "    return resources[resource][\"available\"]\n",
        "\n",
        "\n",
        "# parameter with price coefficients\n",
        "@model.Param(model.PRODUCTS)\n",
        "def cp(model, product):\n",
        "    return products[product][\"price\"]\n",
        "\n",
        "\n",
        "@model.Param(model.RESOURCES)\n",
        "def cr(model, resource):\n",
        "    return resources[resource][\"price\"]\n",
        "\n",
        "\n",
        "# process parameters: a[r,p]\n",
        "@model.Param(model.RESOURCES, model.PRODUCTS)\n",
        "def a(model, resource, product):\n",
        "    return processes[product][resource]"
      ]
    },
    {
      "cell_type": "markdown",
      "metadata": {
        "id": "f6cDCyIVxosq"
      },
      "source": [
        "The decision variables, $x$ and $y$, are indexed by the set of resources and products, respectively. The indexing is specified by passing the relevant sets as the first argumentns to Pyomo `Var()`. In addition to indexing, it always good practice to specify any known and fixed bounds on the variables. This is done by specifying a function (in Pyomo parlance sometimes called a rule) that returns the bound for a given index. Here we use a Python lambda function with two arguments, model and an index referring to a member of a set, to return a tuple with the lower and upper bound."
      ]
    },
    {
      "cell_type": "code",
      "execution_count": null,
      "metadata": {
        "id": "b4KClzWnxosq"
      },
      "outputs": [],
      "source": [
        "model.x = pyo.Var(\n",
        "    model.RESOURCES, bounds=lambda model, resource: (0, model.available[resource])\n",
        ")\n",
        "model.y = pyo.Var(\n",
        "    model.PRODUCTS, bounds=lambda model, product: (0, model.demand[product])\n",
        ")"
      ]
    },
    {
      "cell_type": "markdown",
      "metadata": {
        "id": "KUo2MSZAxosq"
      },
      "source": [
        "The objective is expressed with Pyomo `quicksum` which accepts a Python generator to successive terms in the sum. Here we use the parameters $c_p$ and $c_r$ that appear in the mathematical version of the model, and which were declared above in the Pyomo version of the model."
      ]
    },
    {
      "cell_type": "code",
      "execution_count": null,
      "metadata": {
        "id": "EwfgrD_fxosq"
      },
      "outputs": [],
      "source": [
        "model.revenue = pyo.quicksum(\n",
        "    model.cp[product] * model.y[product] for product in model.PRODUCTS\n",
        ")\n",
        "model.cost = pyo.quicksum(\n",
        "    model.cr[resource] * model.x[resource] for resource in model.RESOURCES\n",
        ")\n",
        "\n",
        "\n",
        "# create objective\n",
        "@model.Objective(sense=pyo.maximize)\n",
        "def profit(model):\n",
        "    return model.revenue - model.cost"
      ]
    },
    {
      "cell_type": "markdown",
      "metadata": {
        "id": "ZcD0TCY_xosq"
      },
      "source": [
        "The Pyomo `Constraint` decorator accepts one or more sets as arguments. Then, for every member of every set, the decorated function creates an associated constraint. Creating indexed constraints indexed in this manner are an essential building block for more complex models."
      ]
    },
    {
      "cell_type": "code",
      "execution_count": null,
      "metadata": {
        "id": "AtVjgbLQxosq"
      },
      "outputs": [],
      "source": [
        "# create indexed constraint\n",
        "@model.Constraint(model.RESOURCES)\n",
        "def materials_used(model, resource):\n",
        "    return (\n",
        "        pyo.quicksum(\n",
        "            model.a[resource, product] * model.y[product] for product in model.PRODUCTS\n",
        "        )\n",
        "        <= model.x[resource]\n",
        "    )"
      ]
    },
    {
      "cell_type": "markdown",
      "metadata": {
        "id": "d7wOcCpJxosq"
      },
      "source": [
        "The final step is to solve the model and report the solution. Here we create a simple report using `pyo.value()` to access values of the decision variables, and using the model sets to construct iterators to report the value of indexed variables."
      ]
    },
    {
      "cell_type": "code",
      "execution_count": null,
      "metadata": {
        "id": "mzc1ySlFxosq",
        "outputId": "ed3320f9-37bf-4a7d-eebd-a501250dcd29"
      },
      "outputs": [
        {
          "name": "stdout",
          "output_type": "stream",
          "text": [
            "3 Set Declarations\n",
            "    PRODUCTS : Size=1, Index=None, Ordered=Insertion\n",
            "        Key  : Dimen : Domain : Size : Members\n",
            "        None :     1 :    Any :    2 : {'U', 'V'}\n",
            "    RESOURCES : Size=1, Index=None, Ordered=Insertion\n",
            "        Key  : Dimen : Domain : Size : Members\n",
            "        None :     1 :    Any :    3 : {'M', 'labor A', 'labor B'}\n",
            "    a_index : Size=1, Index=None, Ordered=True\n",
            "        Key  : Dimen : Domain             : Size : Members\n",
            "        None :     2 : RESOURCES*PRODUCTS :    6 : {('M', 'U'), ('M', 'V'), ('labor A', 'U'), ('labor A', 'V'), ('labor B', 'U'), ('labor B', 'V')}\n",
            "\n",
            "5 Param Declarations\n",
            "    a : Size=6, Index=a_index, Domain=Any, Default=None, Mutable=False\n",
            "        Key              : Value\n",
            "              ('M', 'U') :    10\n",
            "              ('M', 'V') :     9\n",
            "        ('labor A', 'U') :     1\n",
            "        ('labor A', 'V') :     1\n",
            "        ('labor B', 'U') :     2\n",
            "        ('labor B', 'V') :     1\n",
            "    available : Size=3, Index=RESOURCES, Domain=Any, Default=None, Mutable=False\n",
            "        Key     : Value\n",
            "              M :  None\n",
            "        labor A :    80\n",
            "        labor B :   100\n",
            "    cp : Size=2, Index=PRODUCTS, Domain=Any, Default=None, Mutable=False\n",
            "        Key : Value\n",
            "          U :   270\n",
            "          V :   210\n",
            "    cr : Size=3, Index=RESOURCES, Domain=Any, Default=None, Mutable=False\n",
            "        Key     : Value\n",
            "              M :    10\n",
            "        labor A :    50\n",
            "        labor B :    40\n",
            "    demand : Size=2, Index=PRODUCTS, Domain=Any, Default=None, Mutable=False\n",
            "        Key : Value\n",
            "          U :    40\n",
            "          V :  None\n",
            "\n",
            "2 Var Declarations\n",
            "    x : Size=3, Index=RESOURCES\n",
            "        Key     : Lower : Value : Upper : Fixed : Stale : Domain\n",
            "              M :     0 :  None :  None : False :  True :  Reals\n",
            "        labor A :     0 :  None :    80 : False :  True :  Reals\n",
            "        labor B :     0 :  None :   100 : False :  True :  Reals\n",
            "    y : Size=2, Index=PRODUCTS\n",
            "        Key : Lower : Value : Upper : Fixed : Stale : Domain\n",
            "          U :     0 :  None :    40 : False :  True :  Reals\n",
            "          V :     0 :  None :  None : False :  True :  Reals\n",
            "\n",
            "1 Objective Declarations\n",
            "    profit : Size=1, Index=None, Active=True\n",
            "        Key  : Active : Sense    : Expression\n",
            "        None :   True : maximize : 270*y[U] + 210*y[V] - (10*x[M] + 50*x[labor A] + 40*x[labor B])\n",
            "\n",
            "1 Constraint Declarations\n",
            "    materials_used : Size=3, Index=RESOURCES, Active=True\n",
            "        Key     : Lower : Body                       : Upper : Active\n",
            "              M :  -Inf :    10*y[U] + 9*y[V] - x[M] :   0.0 :   True\n",
            "        labor A :  -Inf :   y[U] + y[V] - x[labor A] :   0.0 :   True\n",
            "        labor B :  -Inf : 2*y[U] + y[V] - x[labor B] :   0.0 :   True\n",
            "\n",
            "12 Declarations: PRODUCTS RESOURCES demand available cp cr a_index a x y profit materials_used\n",
            "Profit = 2600.0\n",
            "\n",
            "Production Report\n",
            " U  produced =  20.0\n",
            " V  produced =  60.0\n",
            "\n",
            "Resource Report\n",
            " M consumed = 740.0\n",
            " labor A consumed = 80.0\n",
            " labor B consumed = 100.0\n"
          ]
        }
      ],
      "source": [
        "model.pprint()\n",
        "\n",
        "# solve\n",
        "SOLVER.solve(model)\n",
        "\n",
        "# create a solution report\n",
        "print(f\"Profit = {pyo.value(model.profit)}\")\n",
        "\n",
        "print(\"\\nProduction Report\")\n",
        "for product in model.PRODUCTS:\n",
        "    print(f\" {product}  produced =  {pyo.value(model.y[product])}\")\n",
        "\n",
        "print(\"\\nResource Report\")\n",
        "for resource in model.RESOURCES:\n",
        "    print(f\" {resource} consumed = {pyo.value(model.x[resource])}\")"
      ]
    },
    {
      "cell_type": "markdown",
      "metadata": {
        "id": "PKXzzw5wxosr"
      },
      "source": [
        "## For Python experts: Creating subclasses of `ConcreteModel`\n",
        "\n",
        "Some readers of these notebooks may be more experienced Python developers who wish to apply Pyomo in more specialized, data driven applications. The following cell shows how the Pyomo `ConcreteModel()` class can be extended by subclassing to create specialized model classes. Here we create a subclass called `ProductionModel` that accepts a particular representation of the problem data to produce a production model object. The production model object inherits all of the methods associated with any `ConcreteModel`, such as `.display()`, `.solve()`, and `.pprint()`, but can be extended with additional methods."
      ]
    },
    {
      "cell_type": "code",
      "execution_count": null,
      "metadata": {
        "id": "URzLkkLBxosr",
        "outputId": "a5273dda-9a62-4a9e-a9d1-b4bfad124766"
      },
      "outputs": [
        {
          "name": "stdout",
          "output_type": "stream",
          "text": [
            "Profit = 2600.0\n",
            "\n",
            "Production Report\n",
            " U  produced =  20.0\n",
            " V  produced =  60.0\n",
            "\n",
            "Resource Report\n",
            " M consumed = 740.0\n",
            " labor A consumed = 80.0\n",
            " labor B consumed = 100.0\n"
          ]
        }
      ],
      "source": [
        "class ProductionModel(pyo.ConcreteModel):\n",
        "    \"\"\"\n",
        "    A class representing a production model using Pyomo.\n",
        "    \"\"\"\n",
        "\n",
        "    def __init__(self, products, resources, processes):\n",
        "        \"\"\"\n",
        "        Initialize ProductionModel as an instance of a ConcreteModel.\n",
        "\n",
        "        :param products: A dictionary containing product information.\n",
        "        :param resources: A dictionary containing resource information.\n",
        "        :param processes: A dictionary containing process information.\n",
        "        \"\"\"\n",
        "        super().__init__(\"Production Model\")\n",
        "\n",
        "        # save data in the model instance\n",
        "        self.products = products\n",
        "        self.resources = resources\n",
        "        self.processes = processes\n",
        "\n",
        "        # flag to monitor solution status\n",
        "        self.solved = False\n",
        "\n",
        "    def build_model(self):\n",
        "        \"\"\"\n",
        "        Build the optimization model.\n",
        "        \"\"\"\n",
        "        # access the model\n",
        "        model = self.model()\n",
        "\n",
        "        # create sets to index variables and constraints\n",
        "        model.PRODUCTS = self.products.keys()\n",
        "        model.RESOURCES = self.resources.keys()\n",
        "\n",
        "        # decision variables\n",
        "        model.x = pyo.Var(\n",
        "            model.RESOURCES,\n",
        "            bounds=lambda model, resource: (0, self.resources[resource][\"available\"]),\n",
        "        )\n",
        "        model.y = pyo.Var(\n",
        "            model.PRODUCTS,\n",
        "            bounds=lambda model, product: (0, self.products[product][\"demand\"]),\n",
        "        )\n",
        "\n",
        "        # use expressions to break up complex objectives\n",
        "        model.revenue = pyo.quicksum(\n",
        "            self.products[product][\"price\"] * model.y[product]\n",
        "            for product in model.products\n",
        "        )\n",
        "        model.cost = pyo.quicksum(\n",
        "            self.resources[resource][\"price\"] * model.x[resource]\n",
        "            for resource in model.resources\n",
        "        )\n",
        "\n",
        "        # create objective\n",
        "        @model.Objective(sense=pyo.maximize)\n",
        "        def profit(model):\n",
        "            return model.revenue - model.cost\n",
        "\n",
        "        # create indexed constraint\n",
        "        @model.Constraint(model.RESOURCES)\n",
        "        def materials_used(model, resource):\n",
        "            return (\n",
        "                pyo.quicksum(\n",
        "                    self.processes[product][resource] * model.y[product]\n",
        "                    for product in model.PRODUCTS\n",
        "                )\n",
        "                <= model.x[resource]\n",
        "            )\n",
        "\n",
        "    def solve(self, solver=SOLVER):\n",
        "        \"\"\"\n",
        "        Buildthe model, if necessary, then solve the optimization model.\n",
        "        \"\"\"\n",
        "        self.build_model()\n",
        "        solver.solve(self)\n",
        "        self.solved = True\n",
        "\n",
        "    def report(self):\n",
        "        \"\"\"\n",
        "        Solve, if necessary, then report the model solution.\n",
        "        \"\"\"\n",
        "        if not self.solved:\n",
        "            self.solve(SOLVER)\n",
        "        print(f\"Profit = {pyo.value(self.profit)}\")\n",
        "        print(\"\\nProduction Report\")\n",
        "        for product in m.PRODUCTS:\n",
        "            print(f\" {product}  produced =  {pyo.value(self.y[product])}\")\n",
        "        print(\"\\nResource Report\")\n",
        "        for resource in m.RESOURCES:\n",
        "            print(f\" {resource} consumed = {pyo.value(self.x[resource])}\")\n",
        "\n",
        "\n",
        "m = ProductionModel(products, resources, processes)\n",
        "m.report()"
      ]
    }
  ],
  "metadata": {
    "colab": {
      "provenance": []
    },
    "kernelspec": {
      "display_name": "Python 3 (ipykernel)",
      "language": "python",
      "name": "python3"
    },
    "language_info": {
      "codemirror_mode": {
        "name": "ipython",
        "version": 3
      },
      "file_extension": ".py",
      "mimetype": "text/x-python",
      "name": "python",
      "nbconvert_exporter": "python",
      "pygments_lexer": "ipython3",
      "version": "3.10.10"
    },
    "latex_envs": {
      "LaTeX_envs_menu_present": true,
      "autoclose": false,
      "autocomplete": true,
      "bibliofile": "biblio.bib",
      "cite_by": "apalike",
      "current_citInitial": 1,
      "eqLabelWithNumbers": true,
      "eqNumInitial": 1,
      "hotkeys": {
        "equation": "Ctrl-E",
        "itemize": "Ctrl-I"
      },
      "labels_anchors": false,
      "latex_user_defs": false,
      "report_style_numbering": false,
      "user_envs_cfg": false
    }
  },
  "nbformat": 4,
  "nbformat_minor": 0
}